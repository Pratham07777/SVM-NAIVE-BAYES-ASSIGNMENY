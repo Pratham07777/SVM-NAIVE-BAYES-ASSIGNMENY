{
  "nbformat": 4,
  "nbformat_minor": 0,
  "metadata": {
    "colab": {
      "provenance": []
    },
    "kernelspec": {
      "name": "python3",
      "display_name": "Python 3"
    },
    "language_info": {
      "name": "python"
    }
  },
  "cells": [
    {
      "cell_type": "code",
      "execution_count": null,
      "metadata": {
        "id": "vV-o3fA9oTwE"
      },
      "outputs": [],
      "source": []
    },
    {
      "cell_type": "markdown",
      "source": [
        "# THEORY ANSWERS"
      ],
      "metadata": {
        "id": "LV790NJxoW5B"
      }
    },
    {
      "cell_type": "markdown",
      "source": [
        "Q1: What is a Support Vector Machine (SVM)?\n",
        "\n",
        "Answer:\n",
        "SVM is a supervised learning algorithm used for classification and regression. It finds the optimal hyperplane that best separates classes. The main idea is to maximize the margin between data classes for better generalization.\n",
        "\n",
        "Q2: What is the difference between Hard Margin and Soft Margin SVM?\n",
        "\n",
        "Answer:\n",
        "Hard Margin SVM assumes perfect linear separability with no errors. Soft Margin SVM allows some misclassifications using slack variables, making it more robust for noisy real-world data.\n",
        "\n",
        "Q3: What is the mathematical intuition behind SVM?\n",
        "\n",
        "Answer:\n",
        "SVM minimizes classification error while maximizing the margin. This is formulated as a convex optimization problem, where the hyperplane is defined using support vectors for the best separation.\n",
        "\n",
        "Q4: What is the role of Lagrange Multipliers in SVM?\n",
        "\n",
        "Answer:\n",
        "Lagrange Multipliers convert the constrained optimization problem into its dual form. This makes it easier to solve and enables the use of kernels for handling non-linear decision boundaries.\n",
        "\n",
        "Q5: What are Support Vectors in SVM?\n",
        "\n",
        "Answer:\n",
        "Support vectors are the critical data points closest to the decision boundary. They determine the position and orientation of the hyperplane and are essential for model accuracy.\n",
        "\n",
        "Q6: What is a Support Vector Classifier (SVC)?\n",
        "\n",
        "Answer:\n",
        "SVC is the classification form of SVM. It classifies data into categories by building the optimal hyperplane, using either linear separation or kernel-based transformations.\n",
        "\n",
        "Q7: What is a Support Vector Regressor (SVR)?\n",
        "\n",
        "Answer:\n",
        "SVR applies SVM principles to regression tasks. It fits a function within a defined margin of tolerance, focusing on minimizing large errors while ignoring small deviations.\n",
        "\n",
        "Q8: What is the Kernel Trick in SVM?\n",
        "\n",
        "Answer:\n",
        "The kernel trick maps non-linear data into higher-dimensional space to make it linearly separable. This is done implicitly through kernel functions without explicit transformations.\n",
        "\n",
        "Q9: Compare Linear Kernel, Polynomial Kernel, and RBF Kernel.\n",
        "\n",
        "Answer:\n",
        "\n",
        "Linear Kernel: Best for linearly separable data.\n",
        "\n",
        "Polynomial Kernel: Captures polynomial feature interactions.\n",
        "\n",
        "RBF Kernel: Handles highly non-linear and complex data effectively.\n",
        "\n",
        "Q10: What is the effect of the C parameter in SVM?\n",
        "\n",
        "Answer:\n",
        "C controls the trade-off between maximizing margin and minimizing misclassification. High C favors fewer errors but risks overfitting, while low C allows flexibility and better generalization.\n",
        "\n",
        "Q11: What is the role of the Gamma parameter in RBF Kernel SVM?\n",
        "\n",
        "Answer:\n",
        "Gamma defines the influence of individual data points. High gamma creates complex, localized boundaries, while low gamma produces smoother, simpler decision regions.\n",
        "\n",
        "Q12: What is the Naïve Bayes classifier, and why is it called \"Naïve\"?\n",
        "\n",
        "Answer:\n",
        "Naïve Bayes is a probabilistic model using Bayes’ theorem. It is called “naïve” because it assumes all features are independent, which simplifies calculations but rarely holds in reality.\n",
        "\n",
        "Q13: What is Bayes’ Theorem?\n",
        "\n",
        "Answer:\n",
        "Bayes’ Theorem gives the probability of a hypothesis given evidence:\n",
        "\n",
        "𝑃\n",
        "(\n",
        "𝐻\n",
        "∣\n",
        "𝐸\n",
        ")\n",
        "=\n",
        "𝑃\n",
        "(\n",
        "𝐸\n",
        "∣\n",
        "𝐻\n",
        ")\n",
        "⋅\n",
        "𝑃\n",
        "(\n",
        "𝐻\n",
        ")\n",
        "𝑃\n",
        "(\n",
        "𝐸\n",
        ")\n",
        "P(H∣E)=\n",
        "P(E)\n",
        "P(E∣H)⋅P(H)\n",
        "\t​\n",
        "\n",
        "\n",
        "It updates prior beliefs with new evidence for probabilistic reasoning.\n",
        "\n",
        "Q14: Explain the differences between Gaussian NB, Multinomial NB, and Bernoulli NB.\n",
        "\n",
        "Answer:\n",
        "\n",
        "Gaussian NB: For continuous features with normal distribution.\n",
        "\n",
        "Multinomial NB: For discrete counts like word frequencies.\n",
        "\n",
        "Bernoulli NB: For binary features (presence/absence).\n",
        "\n",
        "Q15: When should you use Gaussian Naïve Bayes over other variants?\n",
        "\n",
        "Answer:\n",
        "Gaussian NB is best when features are continuous and approximately normally distributed, such as medical data, biometric data, or sensor-based inputs.\n",
        "\n",
        "Q16: What are the key assumptions made by Naïve Bayes?\n",
        "\n",
        "Answer:\n",
        "\n",
        "Features are conditionally independent given the class.\n",
        "\n",
        "One feature’s presence does not affect another.\n",
        "\n",
        "Data follows the assumed distribution (Gaussian, Multinomial, Bernoulli).\n",
        "\n",
        "Q17: What are the advantages and disadvantages of Naïve Bayes?\n",
        "\n",
        "Answer:\n",
        "Advantages: Simple, fast, works well with high-dimensional and sparse data.\n",
        "Disadvantages: Independence assumption is unrealistic, poor with correlated features, less accurate for complex patterns.\n",
        "\n",
        "Q18: Why is Naïve Bayes a good choice for text classification?\n",
        "\n",
        "Answer:\n",
        "It handles high-dimensional sparse data effectively, assumes conditional independence which fits word usage well, and is computationally efficient for large text datasets.\n",
        "\n",
        "Q19: Compare SVM and Naïve Bayes for classification tasks.\n",
        "\n",
        "Answer:\n",
        "\n",
        "SVM: Works well with complex, high-dimensional data; requires tuning; computationally intensive.\n",
        "\n",
        "Naïve Bayes: Fast, simple, good for text data; less effective when features are correlated.\n",
        "\n",
        "Q20: How does Laplace Smoothing help in Naïve Bayes?\n",
        "\n",
        "Answer:\n",
        "Laplace smoothing avoids zero probabilities for unseen features by adding a constant (usually 1) to counts. This ensures robustness when handling new words or rare events."
      ],
      "metadata": {
        "id": "KGtPx0tgoc6Y"
      }
    },
    {
      "cell_type": "markdown",
      "source": [
        "# PRACTICAL ANSWERS"
      ],
      "metadata": {
        "id": "dQ3MNaspool4"
      }
    },
    {
      "cell_type": "code",
      "metadata": {
        "colab": {
          "base_uri": "https://localhost:8080/"
        },
        "id": "da921f17",
        "outputId": "d0e4f8a4-3bb9-4c3e-8689-b47c0839a67d"
      },
      "source": [
        "#21: Train an SVM Classifier on the Iris dataset and evaluate accuracy\n",
        "from sklearn import datasets\n",
        "from sklearn.model_selection import train_test_split\n",
        "from sklearn.svm import SVC\n",
        "from sklearn.metrics import accuracy_score\n",
        "\n",
        "iris = datasets.load_iris()\n",
        "X = iris.data\n",
        "y = iris.target\n",
        "X_train, X_test, y_train, y_test = train_test_split(X, y, test_size=0.2, random_state=42)\n",
        "svm_clf = SVC()\n",
        "svm_clf.fit(X_train, y_train)\n",
        "y_pred = svm_clf.predict(X_test)\n",
        "print(\"SVM Accuracy on Iris dataset:\", accuracy_score(y_test, y_pred))"
      ],
      "execution_count": 40,
      "outputs": [
        {
          "output_type": "stream",
          "name": "stdout",
          "text": [
            "SVM Accuracy on Iris dataset: 1.0\n"
          ]
        }
      ]
    },
    {
      "cell_type": "code",
      "metadata": {
        "colab": {
          "base_uri": "https://localhost:8080/"
        },
        "id": "59d7132a",
        "outputId": "30cb0f70-ad2e-42c7-a05e-320abfd0a64d"
      },
      "source": [
        "#22: Train two SVM classifiers (Linear and RBF) on Wine dataset and compare accuracies\n",
        "from sklearn.datasets import load_wine\n",
        "wine = load_wine()\n",
        "X_train, X_test, y_train, y_test = train_test_split(wine.data, wine.target, test_size=0.2, random_state=42)\n",
        "svm_linear = SVC(kernel='linear'); svm_linear.fit(X_train, y_train)\n",
        "svm_rbf = SVC(kernel='rbf'); svm_rbf.fit(X_train, y_train)\n",
        "print(\"Linear Kernel Accuracy:\", accuracy_score(y_test, svm_linear.predict(X_test)))\n",
        "print(\"RBF Kernel Accuracy:\", accuracy_score(y_test, svm_rbf.predict(X_test)))"
      ],
      "execution_count": 41,
      "outputs": [
        {
          "output_type": "stream",
          "name": "stdout",
          "text": [
            "Linear Kernel Accuracy: 1.0\n",
            "RBF Kernel Accuracy: 0.8055555555555556\n"
          ]
        }
      ]
    },
    {
      "cell_type": "code",
      "metadata": {
        "colab": {
          "base_uri": "https://localhost:8080/"
        },
        "id": "d67638f9",
        "outputId": "371a7f75-ac3f-4a1b-c044-fc77ff3ce235"
      },
      "source": [
        "#23: Train SVR on housing dataset and evaluate MSE\n",
        "from sklearn.datasets import load_diabetes\n",
        "from sklearn.svm import SVR\n",
        "from sklearn.metrics import mean_squared_error\n",
        "diabetes = load_diabetes()\n",
        "X_train, X_test, y_train, y_test = train_test_split(diabetes.data, diabetes.target, test_size=0.2, random_state=42)\n",
        "svr = SVR(kernel='rbf'); svr.fit(X_train, y_train)\n",
        "print(\"SVR MSE:\", mean_squared_error(y_test, svr.predict(X_test)))"
      ],
      "execution_count": 42,
      "outputs": [
        {
          "output_type": "stream",
          "name": "stdout",
          "text": [
            "SVR MSE: 4333.285954518086\n"
          ]
        }
      ]
    },
    {
      "cell_type": "code",
      "metadata": {
        "colab": {
          "base_uri": "https://localhost:8080/",
          "height": 452
        },
        "id": "8f99965a",
        "outputId": "557ae7ca-2e84-47cb-f569-b3685bfce396"
      },
      "source": [
        "#24: Train SVM with Polynomial kernel and visualize decision boundary\n",
        "import numpy as np\n",
        "import matplotlib.pyplot as plt\n",
        "from sklearn.datasets import make_classification\n",
        "X, y = make_classification(n_samples=100, n_features=2, n_informative=2, n_redundant=0, random_state=42)\n",
        "svm_poly = SVC(kernel='poly', degree=3); svm_poly.fit(X, y)\n",
        "xx, yy = np.meshgrid(np.linspace(X[:,0].min()-1, X[:,0].max()+1, 500),\n",
        "                     np.linspace(X[:,1].min()-1, X[:,1].max()+1, 500))\n",
        "Z = svm_poly.predict(np.c_[xx.ravel(), yy.ravel()]).reshape(xx.shape)\n",
        "plt.contourf(xx, yy, Z, alpha=0.3); plt.scatter(X[:,0], X[:,1], c=y, edgecolors='k'); plt.title(\"#24 SVM Polynomial Kernel\"); plt.show()"
      ],
      "execution_count": 4,
      "outputs": [
        {
          "output_type": "display_data",
          "data": {
            "text/plain": [
              "<Figure size 640x480 with 1 Axes>"
            ],
            "image/png": "[encoded data removed]"
          },
          "metadata": {}
        }
      ]
    },
    {
      "cell_type": "code",
      "metadata": {
        "colab": {
          "base_uri": "https://localhost:8080/"
        },
        "id": "0d2bcdd7",
        "outputId": "a3fb6e5f-7539-4548-edc3-4f72365e4e4d"
      },
      "source": [
        "#25: Train Gaussian Naive Bayes on Breast Cancer dataset\n",
        "from sklearn.datasets import load_breast_cancer\n",
        "from sklearn.naive_bayes import GaussianNB\n",
        "data = load_breast_cancer()\n",
        "X_train, X_test, y_train, y_test = train_test_split(data.data, data.target, test_size=0.2, random_state=42)\n",
        "gnb = GaussianNB(); gnb.fit(X_train, y_train)\n",
        "print(\"Gaussian NB Accuracy:\", accuracy_score(y_test, gnb.predict(X_test)))"
      ],
      "execution_count": 43,
      "outputs": [
        {
          "output_type": "stream",
          "name": "stdout",
          "text": [
            "Gaussian NB Accuracy: 0.9736842105263158\n"
          ]
        }
      ]
    },
    {
      "cell_type": "code",
      "metadata": {
        "colab": {
          "base_uri": "https://localhost:8080/"
        },
        "id": "5653170c",
        "outputId": "ce17d45e-7b5f-450e-e702-b114b71fedf0"
      },
      "source": [
        "#26: Train Multinomial Naive Bayes for 20 Newsgroups text classification\n",
        "from sklearn.datasets import fetch_20newsgroups\n",
        "from sklearn.feature_extraction.text import CountVectorizer\n",
        "categories = ['alt.atheism', 'comp.graphics', 'sci.med', 'soc.religion.christian']\n",
        "newsgroups = fetch_20newsgroups(subset='all', categories=categories)\n",
        "X_vec = CountVectorizer().fit_transform(newsgroups.data)\n",
        "X_train, X_test, y_train, y_test = train_test_split(X_vec, newsgroups.target, test_size=0.2, random_state=42)\n",
        "from sklearn.naive_bayes import MultinomialNB\n",
        "mnb = MultinomialNB(); mnb.fit(X_train, y_train)\n",
        "print(\"Multinomial NB Accuracy:\", accuracy_score(y_test, mnb.predict(X_test)))"
      ],
      "execution_count": 44,
      "outputs": [
        {
          "output_type": "stream",
          "name": "stdout",
          "text": [
            "Multinomial NB Accuracy: 0.9707446808510638\n"
          ]
        }
      ]
    },
    {
      "cell_type": "code",
      "metadata": {
        "colab": {
          "base_uri": "https://localhost:8080/",
          "height": 391
        },
        "id": "d28e9a22",
        "outputId": "0a035b26-fee4-4c64-d3e6-17c039d67c10"
      },
      "source": [
        "#27: Train SVM with different C values and compare decision boundaries\n",
        "from sklearn.svm import SVC\n",
        "X, y = make_classification(n_samples=100, n_features=2, n_redundant=0, n_clusters_per_class=1, random_state=42)\n",
        "C_values = [0.1, 1, 10]; fig, axes = plt.subplots(1, 3, figsize=(15,4))\n",
        "for i, C in enumerate(C_values):\n",
        "    svm = SVC(C=C, kernel='linear'); svm.fit(X, y)\n",
        "    xx, yy = np.meshgrid(np.linspace(X[:,0].min()-1, X[:,0].max()+1, 500),\n",
        "                         np.linspace(X[:,1].min()-1, X[:,1].max()+1, 500))\n",
        "    Z = svm.predict(np.c_[xx.ravel(), yy.ravel()]).reshape(xx.shape)\n",
        "    axes[i].contourf(xx, yy, Z, alpha=0.3)\n",
        "    axes[i].scatter(X[:,0], X[:,1], c=y, edgecolors='k'); axes[i].set_title(f\"#27 SVM C={C}\")\n",
        "plt.show()"
      ],
      "execution_count": 7,
      "outputs": [
        {
          "output_type": "display_data",
          "data": {
            "text/plain": [
              "<Figure size 1500x400 with 3 Axes>"
            ],
            "image/png": "[encoded data removed]"
          },
          "metadata": {}
        }
      ]
    },
    {
      "cell_type": "code",
      "metadata": {
        "colab": {
          "base_uri": "https://localhost:8080/"
        },
        "id": "681d4be7",
        "outputId": "42942e96-5de7-45da-d17e-3e60e9b3530c"
      },
      "source": [
        "#28: Bernoulli Naive Bayes for binary classification\n",
        "from sklearn.datasets import make_classification\n",
        "from sklearn.naive_bayes import BernoulliNB\n",
        "X, y = make_classification(n_samples=200, n_features=10, n_informative=5, n_redundant=0, n_clusters_per_class=1, random_state=42)\n",
        "X = (X > 0).astype(int)\n",
        "X_train, X_test, y_train, y_test = train_test_split(X, y, test_size=0.2, random_state=42)\n",
        "bnb = BernoulliNB(); bnb.fit(X_train, y_train)\n",
        "print(\"Bernoulli NB Accuracy:\", accuracy_score(y_test, bnb.predict(X_test)))"
      ],
      "execution_count": 45,
      "outputs": [
        {
          "output_type": "stream",
          "name": "stdout",
          "text": [
            "Bernoulli NB Accuracy: 0.9\n"
          ]
        }
      ]
    },
    {
      "cell_type": "code",
      "metadata": {
        "colab": {
          "base_uri": "https://localhost:8080/"
        },
        "id": "28c6337b",
        "outputId": "41761af1-773a-4f0b-ca33-9128bf1f9447"
      },
      "source": [
        "#29: Feature scaling before SVM\n",
        "from sklearn.preprocessing import StandardScaler\n",
        "from sklearn.datasets import load_iris # Import load_iris\n",
        "X_train, X_test, y_train, y_test = train_test_split(iris.data, iris.target, test_size=0.2, random_state=42)\n",
        "svm_unscaled = SVC(); svm_unscaled.fit(X_train, y_train)\n",
        "X_train_scaled = StandardScaler().fit_transform(X_train)\n",
        "X_test_scaled = StandardScaler().fit_transform(X_test)\n",
        "svm_scaled = SVC(); svm_scaled.fit(X_train_scaled, y_train)\n",
        "print(\"Accuracy unscaled:\", accuracy_score(y_test, svm_unscaled.predict(X_test)))\n",
        "print(\"Accuracy scaled:\", accuracy_score(y_test, svm_scaled.predict(X_test_scaled)))"
      ],
      "execution_count": 46,
      "outputs": [
        {
          "output_type": "stream",
          "name": "stdout",
          "text": [
            "Accuracy unscaled: 1.0\n",
            "Accuracy scaled: 0.9666666666666667\n"
          ]
        }
      ]
    },
    {
      "cell_type": "code",
      "metadata": {
        "colab": {
          "base_uri": "https://localhost:8080/"
        },
        "id": "24048607",
        "outputId": "62d317bf-b293-415e-83e5-575b6bb6c20f"
      },
      "source": [
        "#30: Gaussian NB with and without Laplace smoothing\n",
        "gnb1 = GaussianNB(var_smoothing=1e-9); gnb1.fit(X_train, y_train)\n",
        "gnb2 = GaussianNB(var_smoothing=1e-2); gnb2.fit(X_train, y_train)\n",
        "print(\"Accuracy without smoothing:\", accuracy_score(y_test, gnb1.predict(X_test)))\n",
        "print(\"Accuracy with smoothing:\", accuracy_score(y_test, gnb2.predict(X_test)))"
      ],
      "execution_count": 47,
      "outputs": [
        {
          "output_type": "stream",
          "name": "stdout",
          "text": [
            "Accuracy without smoothing: 1.0\n",
            "Accuracy with smoothing: 1.0\n"
          ]
        }
      ]
    },
    {
      "cell_type": "code",
      "metadata": {
        "colab": {
          "base_uri": "https://localhost:8080/"
        },
        "id": "d518966a",
        "outputId": "623e8dda-dff5-4760-ad1e-c3050706a086"
      },
      "source": [
        "#31: SVM with GridSearchCV hyperparameter tuning\n",
        "from sklearn.model_selection import GridSearchCV\n",
        "param_grid = {'C':[0.1,1,10],'gamma':['scale','auto'],'kernel':['linear','rbf','poly']}\n",
        "grid = GridSearchCV(SVC(), param_grid, cv=5); grid.fit(X_train, y_train)\n",
        "print(\"Best Parameters:\", grid.best_params_); print(\"Accuracy:\", accuracy_score(y_test, grid.predict(X_test)))"
      ],
      "execution_count": 48,
      "outputs": [
        {
          "output_type": "stream",
          "name": "stdout",
          "text": [
            "Best Parameters: {'C': 1, 'gamma': 'scale', 'kernel': 'linear'}\n",
            "Accuracy: 1.0\n"
          ]
        }
      ]
    },
    {
      "cell_type": "code",
      "metadata": {
        "colab": {
          "base_uri": "https://localhost:8080/"
        },
        "id": "49b06e8a",
        "outputId": "b6ae4894-3ba7-4cd0-c35b-8503295ecd0a"
      },
      "source": [
        "#32: SVM on imbalanced dataset with class weighting\n",
        "X, y = make_classification(n_samples=500, n_features=5, n_informative=3, n_redundant=0, weights=[0.9,0.1], flip_y=0, random_state=42)\n",
        "X_train, X_test, y_train, y_test = train_test_split(X, y, test_size=0.2, random_state=42)\n",
        "svm1 = SVC(); svm1.fit(X_train, y_train)\n",
        "svm2 = SVC(class_weight='balanced'); svm2.fit(X_train, y_train)\n",
        "print(\"Accuracy unweighted:\", accuracy_score(y_test, svm1.predict(X_test)))\n",
        "print(\"Accuracy weighted:\", accuracy_score(y_test, svm2.predict(X_test)))"
      ],
      "execution_count": 49,
      "outputs": [
        {
          "output_type": "stream",
          "name": "stdout",
          "text": [
            "Accuracy unweighted: 0.94\n",
            "Accuracy weighted: 0.96\n"
          ]
        }
      ]
    },
    {
      "cell_type": "code",
      "metadata": {
        "colab": {
          "base_uri": "https://localhost:8080/"
        },
        "id": "fb239995",
        "outputId": "c7f8f0c3-cbd8-4a8b-bd28-60e6de2a5c05"
      },
      "source": [
        "#33: Naive Bayes for spam detection\n",
        "from sklearn.datasets import fetch_openml\n",
        "from sklearn.feature_extraction.text import CountVectorizer\n",
        "from sklearn.model_selection import train_test_split\n",
        "from sklearn.naive_bayes import MultinomialNB\n",
        "from sklearn.metrics import accuracy_score\n",
        "# from sklearn.exceptions import OpenMLError # Removed this import\n",
        "\n",
        "try:\n",
        "    # Try fetching by name and version\n",
        "    sms = fetch_openml('sms_spam', version=1, as_frame=True)\n",
        "    text_column_name = 'text' # Assuming 'text' is the column name for version 1\n",
        "except Exception as e: # Catching a general Exception\n",
        "    # Fallback to data_id if fetching by name and version fails\n",
        "    print(f\"Fetching by name and version failed: {e}, trying by data_id.\")\n",
        "    try:\n",
        "        sms = fetch_openml(data_id=592, as_frame=True)\n",
        "        # Inspect columns to find the text column if data_id works but has different structure\n",
        "        print(\"Columns in sms.data from data_id 592:\", sms.data.columns)\n",
        "        # Based on previous output, data_id 592 doesn't seem to be the sms_spam dataset\n",
        "        # We'll raise an error or handle this case explicitly if needed.\n",
        "        raise ValueError(\"Dataset with data_id 592 is not the expected sms_spam dataset.\")\n",
        "    except Exception as e:\n",
        "        print(f\"Fetching by data_id also failed or dataset structure is unexpected: {e}\")\n",
        "        # Handle the case where neither method works\n",
        "        print(\"Could not fetch the expected sms_spam dataset.\")\n",
        "        # You might want to exit or skip this cell if the dataset cannot be loaded\n",
        "\n",
        "# If we successfully fetched a dataset, proceed with vectorization and training\n",
        "# This part will only execute if a dataset was successfully loaded in the try/except blocks\n",
        "if 'sms' in locals() and sms is not None: # Added check for sms being None\n",
        "    # If fetching by name/version worked, text_column_name is 'text'\n",
        "    # If fetching by data_id worked (which it didn't seem to), you'd need to set text_column_name based on inspection\n",
        "    # Since data_id 592 didn't have a 'text' or 'v2' column, we assume the name/version fetch is the goal.\n",
        "    # If the name/version fetch failed, the ValueError or subsequent errors will handle it.\n",
        "    try:\n",
        "        X_vec = CountVectorizer().fit_transform(sms.data[text_column_name])\n",
        "        X_train, X_test, y_train, y_test = train_test_split(X_vec, sms.target, test_size=0.2, random_state=42)\n",
        "        mnb = MultinomialNB(); mnb.fit(X_train, y_train)\n",
        "        print(\"Spam Detection Accuracy:\", accuracy_score(y_test, mnb.predict(X_test)))\n",
        "    except KeyError as e:\n",
        "        print(f\"KeyError accessing data column: {e}. Please check the column name.\")\n",
        "    except ValueError as e:\n",
        "        print(f\"ValueError during processing: {e}\")\n",
        "else:\n",
        "    print(\"Skipping cell execution due to dataset loading failure.\")"
      ],
      "execution_count": 50,
      "outputs": [
        {
          "output_type": "stream",
          "name": "stdout",
          "text": [
            "Fetching by name and version failed: Dataset sms_spam with version 1 not found., trying by data_id.\n",
            "Columns in sms.data from data_id 592: Index(['oz1', 'oz2', 'oz3', 'oz4', 'oz5', 'oz6', 'oz7', 'oz8', 'oz9', 'oz10',\n",
            "       'oz11', 'oz12', 'oz13', 'oz14', 'oz15', 'oz16', 'oz17', 'oz18', 'oz19',\n",
            "       'oz20', 'oz21', 'oz22', 'oz23', 'oz24', 'oz25'],\n",
            "      dtype='object')\n",
            "Fetching by data_id also failed or dataset structure is unexpected: Dataset with data_id 592 is not the expected sms_spam dataset.\n",
            "Could not fetch the expected sms_spam dataset.\n",
            "KeyError accessing data column: 'v2'. Please check the column name.\n"
          ]
        }
      ]
    },
    {
      "cell_type": "code",
      "metadata": {
        "colab": {
          "base_uri": "https://localhost:8080/"
        },
        "id": "4db9a61f",
        "outputId": "a906a561-e2d4-4775-dec3-99edd00dbd7f"
      },
      "source": [
        "#34: SVM vs Naive Bayes on same dataset\n",
        "wine = load_wine(); X_train, X_test, y_train, y_test = train_test_split(wine.data, wine.target, test_size=0.2, random_state=42)\n",
        "svm_clf = SVC(); svm_clf.fit(X_train, y_train); print(\"SVM Accuracy:\", accuracy_score(y_test, svm_clf.predict(X_test)))\n",
        "gnb = GaussianNB(); gnb.fit(X_train, y_train); print(\"Naive Bayes Accuracy:\", accuracy_score(y_test, gnb.predict(X_test)))"
      ],
      "execution_count": 51,
      "outputs": [
        {
          "output_type": "stream",
          "name": "stdout",
          "text": [
            "SVM Accuracy: 0.8055555555555556\n",
            "Naive Bayes Accuracy: 1.0\n"
          ]
        }
      ]
    },
    {
      "cell_type": "code",
      "metadata": {
        "colab": {
          "base_uri": "https://localhost:8080/"
        },
        "id": "3fe51b6b",
        "outputId": "36f79fd7-ef4b-45a2-fa70-68347115a573"
      },
      "source": [
        "#35: Feature selection before Naive Bayes\n",
        "from sklearn.feature_selection import SelectKBest, f_classif\n",
        "selector = SelectKBest(score_func=f_classif, k=2)\n",
        "X_train_sel = selector.fit_transform(X_train, y_train)\n",
        "X_test_sel = selector.transform(X_test)\n",
        "gnb = GaussianNB(); gnb.fit(X_train_sel, y_train)\n",
        "print(\"Accuracy with feature selection:\", accuracy_score(y_test, gnb.predict(X_test_sel)))"
      ],
      "execution_count": 52,
      "outputs": [
        {
          "output_type": "stream",
          "name": "stdout",
          "text": [
            "Accuracy with feature selection: 0.8333333333333334\n"
          ]
        }
      ]
    },
    {
      "cell_type": "code",
      "metadata": {
        "colab": {
          "base_uri": "https://localhost:8080/"
        },
        "id": "6fceba59",
        "outputId": "b6b1ca8a-28d1-4136-ec31-556777bbd63e"
      },
      "source": [
        "#36: SVM OvR vs OvO on Wine dataset\n",
        "from sklearn.multiclass import OneVsRestClassifier, OneVsOneClassifier\n",
        "ovr = OneVsRestClassifier(SVC()); ovr.fit(X_train, y_train)\n",
        "ovo = OneVsOneClassifier(SVC()); ovo.fit(X_train, y_train)\n",
        "print(\"OvR Accuracy:\", accuracy_score(y_test, ovr.predict(X_test)))\n",
        "print(\"OvO Accuracy:\", accuracy_score(y_test, ovo.predict(X_test)))"
      ],
      "execution_count": 53,
      "outputs": [
        {
          "output_type": "stream",
          "name": "stdout",
          "text": [
            "OvR Accuracy: 0.7777777777777778\n",
            "OvO Accuracy: 0.8333333333333334\n"
          ]
        }
      ]
    },
    {
      "cell_type": "code",
      "metadata": {
        "colab": {
          "base_uri": "https://localhost:8080/"
        },
        "id": "ac6a863e",
        "outputId": "1b7b6a2a-141d-4fe4-ce80-f06d1607f4e3"
      },
      "source": [
        "#37: SVM Linear, Poly, RBF on Breast Cancer\n",
        "data = load_breast_cancer(); X_train, X_test, y_train, y_test = train_test_split(data.data, data.target, test_size=0.2, random_state=42)\n",
        "for kernel in ['linear','poly','rbf']:\n",
        "    svm = SVC(kernel=kernel); svm.fit(X_train, y_train)\n",
        "    print(f\"SVM {kernel} Accuracy:\", accuracy_score(y_test, svm.predict(X_test)))"
      ],
      "execution_count": 54,
      "outputs": [
        {
          "output_type": "stream",
          "name": "stdout",
          "text": [
            "SVM linear Accuracy: 0.956140350877193\n",
            "SVM poly Accuracy: 0.9473684210526315\n",
            "SVM rbf Accuracy: 0.9473684210526315\n"
          ]
        }
      ]
    },
    {
      "cell_type": "code",
      "metadata": {
        "colab": {
          "base_uri": "https://localhost:8080/"
        },
        "id": "d2e1d266",
        "outputId": "a75c0be5-e4b3-4621-ff64-070968f8fbae"
      },
      "source": [
        "#38: SVM with Stratified K-Fold Cross-Validation\n",
        "from sklearn.model_selection import StratifiedKFold, cross_val_score\n",
        "svm = SVC(kernel='rbf'); X, y = data.data, data.target\n",
        "skf = StratifiedKFold(n_splits=5, shuffle=True, random_state=42)\n",
        "scores = cross_val_score(svm, X, y, cv=skf)\n",
        "print(\"Stratified K-Fold Accuracies:\", scores); print(\"Average Accuracy:\", scores.mean())"
      ],
      "execution_count": 55,
      "outputs": [
        {
          "output_type": "stream",
          "name": "stdout",
          "text": [
            "Stratified K-Fold Accuracies: [0.93859649 0.87719298 0.89473684 0.93859649 0.92035398]\n",
            "Average Accuracy: 0.9138953578636858\n"
          ]
        }
      ]
    },
    {
      "cell_type": "code",
      "metadata": {
        "colab": {
          "base_uri": "https://localhost:8080/"
        },
        "id": "4a67be61",
        "outputId": "502407db-1461-43db-b364-183c87b91fa5"
      },
      "source": [
        "#39: Naive Bayes with different prior probabilities\n",
        "import numpy as np\n",
        "from sklearn.naive_bayes import GaussianNB\n",
        "from sklearn.metrics import accuracy_score\n",
        "from sklearn.model_selection import train_test_split\n",
        "from sklearn.datasets import load_wine # Assuming Wine dataset based on previous successful cell\n",
        "\n",
        "# Re-split the data to ensure X_train, y_train are defined in this cell's scope\n",
        "wine = load_wine()\n",
        "X_train, X_test, y_train, y_test = train_test_split(wine.data, wine.target, test_size=0.2, random_state=42)\n",
        "\n",
        "\n",
        "gnb1 = GaussianNB(); gnb1.fit(X_train, y_train); print(\"Accuracy default priors:\", accuracy_score(y_test, gnb1.predict(X_test)))\n",
        "\n",
        "# Check the number of unique classes in y_train\n",
        "unique_classes = np.unique(y_train)\n",
        "n_classes = len(unique_classes)\n",
        "print(f\"Number of unique classes in y_train: {n_classes}\")\n",
        "\n",
        "\n",
        "custom_priors = [0.2,0.5,0.3]\n",
        "\n",
        "if len(custom_priors) != n_classes:\n",
        "    print(f\"Warning: Number of custom priors ({len(custom_priors)}) does not match the number of classes ({n_classes}). Using default priors.\")\n",
        "    gnb2 = GaussianNB(); gnb2.fit(X_train, y_train)\n",
        "else:\n",
        "    if not np.isclose(np.sum(custom_priors), 1.0):\n",
        "        print(\"Warning: Custom priors do not sum to 1. Normalizing.\")\n",
        "        custom_priors = np.array(custom_priors) / np.sum(custom_priors)\n",
        "    gnb2 = GaussianNB(priors=custom_priors); gnb2.fit(X_train, y_train)\n",
        "\n",
        "print(\"Accuracy custom priors:\", accuracy_score(y_test, gnb2.predict(X_test)))"
      ],
      "execution_count": 66,
      "outputs": [
        {
          "output_type": "stream",
          "name": "stdout",
          "text": [
            "Accuracy default priors: 1.0\n",
            "Number of unique classes in y_train: 3\n",
            "Accuracy custom priors: 1.0\n"
          ]
        }
      ]
    },
    {
      "cell_type": "code",
      "metadata": {
        "colab": {
          "base_uri": "https://localhost:8080/"
        },
        "id": "11ccf3af",
        "outputId": "95578685-d9b2-4bb5-9538-87e1296fb0dd"
      },
      "source": [
        "#40: Recursive Feature Elimination (RFE) before SVM\n",
        "from sklearn.feature_selection import RFE\n",
        "svm_base = SVC(kernel='linear'); rfe = RFE(svm_base, n_features_to_select=5); rfe.fit(X_train, y_train)\n",
        "X_train_rfe, X_test_rfe = rfe.transform(X_train), rfe.transform(X_test)\n",
        "svm_rfe = SVC(); svm_rfe.fit(X_train_rfe, y_train)\n",
        "print(\"Accuracy with RFE:\", accuracy_score(y_test, svm_rfe.predict(X_test_rfe)))"
      ],
      "execution_count": 57,
      "outputs": [
        {
          "output_type": "stream",
          "name": "stdout",
          "text": [
            "Accuracy with RFE: 0.9122807017543859\n"
          ]
        }
      ]
    },
    {
      "cell_type": "code",
      "metadata": {
        "colab": {
          "base_uri": "https://localhost:8080/"
        },
        "id": "96054fd9",
        "outputId": "0e671c00-ce29-4a09-f24e-82aff148e4c9"
      },
      "source": [
        "#41: SVM evaluated with Precision, Recall, F1-Score\n",
        "from sklearn.metrics import precision_score, recall_score, f1_score\n",
        "svm = SVC(); svm.fit(X_train, y_train); y_pred = svm.predict(X_test)\n",
        "print(\"Precision:\", precision_score(y_test, y_pred, average='macro'))\n",
        "print(\"Recall:\", recall_score(y_test, y_pred, average='macro'))\n",
        "print(\"F1-Score:\", f1_score(y_test, y_pred, average='macro'))"
      ],
      "execution_count": 58,
      "outputs": [
        {
          "output_type": "stream",
          "name": "stdout",
          "text": [
            "Precision: 0.961038961038961\n",
            "Recall: 0.9302325581395349\n",
            "F1-Score: 0.9422297297297297\n"
          ]
        }
      ]
    },
    {
      "cell_type": "code",
      "metadata": {
        "colab": {
          "base_uri": "https://localhost:8080/"
        },
        "id": "234af66d",
        "outputId": "b4d14bc3-b73d-4c4b-b075-03242499985d"
      },
      "source": [
        "#42: Naive Bayes evaluated using Log Loss\n",
        "from sklearn.metrics import log_loss\n",
        "gnb = GaussianNB(); gnb.fit(X_train, y_train)\n",
        "y_proba = gnb.predict_proba(X_test)\n",
        "print(\"Log Loss:\", log_loss(y_test, y_proba))"
      ],
      "execution_count": 59,
      "outputs": [
        {
          "output_type": "stream",
          "name": "stdout",
          "text": [
            "Log Loss: 0.2037342715214191\n"
          ]
        }
      ]
    },
    {
      "cell_type": "code",
      "metadata": {
        "colab": {
          "base_uri": "https://localhost:8080/",
          "height": 472
        },
        "id": "c76ac515",
        "outputId": "5a990f25-ce46-4592-cf52-9d228425518a"
      },
      "source": [
        "#43: SVM Confusion Matrix visualization\n",
        "from sklearn.metrics import confusion_matrix\n",
        "import seaborn as sns\n",
        "svm = SVC(); svm.fit(X_train, y_train)\n",
        "cm = confusion_matrix(y_test, svm.predict(X_test))\n",
        "sns.heatmap(cm, annot=True, fmt='d', cmap='Blues'); plt.xlabel(\"Predicted\"); plt.ylabel(\"Actual\"); plt.title(\"#43 Confusion Matrix\"); plt.show()"
      ],
      "execution_count": 23,
      "outputs": [
        {
          "output_type": "display_data",
          "data": {
            "text/plain": [
              "<Figure size 640x480 with 2 Axes>"
            ],
            "image/png": "[encoded data removed]"
          },
          "metadata": {}
        }
      ]
    },
    {
      "cell_type": "code",
      "metadata": {
        "colab": {
          "base_uri": "https://localhost:8080/"
        },
        "id": "fea94359",
        "outputId": "5e772fd9-d3a3-4f49-b34b-61324ba5b676"
      },
      "source": [
        "#44: SVR evaluated using Mean Absolute Error\n",
        "X_train, X_test, y_train, y_test = train_test_split(diabetes.data, diabetes.target, test_size=0.2, random_state=42)\n",
        "svr = SVR(); svr.fit(X_train, y_train)\n",
        "from sklearn.metrics import mean_absolute_error\n",
        "print(\"SVR MAE:\", mean_absolute_error(y_test, svr.predict(X_test)))"
      ],
      "execution_count": 60,
      "outputs": [
        {
          "output_type": "stream",
          "name": "stdout",
          "text": [
            "SVR MAE: 56.02372412801096\n"
          ]
        }
      ]
    },
    {
      "cell_type": "code",
      "source": [
        "#45: Naive Bayes evaluated using ROC-AUC (fixed for binary classification)\n",
        "from sklearn.datasets import load_breast_cancer\n",
        "from sklearn.model_selection import train_test_split\n",
        "from sklearn.naive_bayes import GaussianNB\n",
        "from sklearn.metrics import roc_auc_score\n",
        "\n",
        "# Load binary dataset\n",
        "data = load_breast_cancer()\n",
        "X_train, X_test, y_train, y_test = train_test_split(data.data, data.target, test_size=0.2, random_state=42)\n",
        "\n",
        "# Train Gaussian Naive Bayes\n",
        "gnb = GaussianNB()\n",
        "gnb.fit(X_train, y_train)\n",
        "\n",
        "# Predict probabilities for positive class\n",
        "y_proba = gnb.predict_proba(X_test)[:, 1]\n",
        "\n",
        "# Compute ROC-AUC\n",
        "roc_auc = roc_auc_score(y_test, y_proba)\n",
        "print(\" ROC-AUC Score:\", roc_auc)\n"
      ],
      "metadata": {
        "colab": {
          "base_uri": "https://localhost:8080/"
        },
        "id": "uJHNT_ZbvGjG",
        "outputId": "d155daea-86e8-4fe8-e71c-5d3d171537db"
      },
      "execution_count": 68,
      "outputs": [
        {
          "output_type": "stream",
          "name": "stdout",
          "text": [
            " ROC-AUC Score: 0.9983622666229938\n"
          ]
        }
      ]
    },
    {
      "cell_type": "code",
      "metadata": {
        "colab": {
          "base_uri": "https://localhost:8080/",
          "height": 541
        },
        "id": "03f261a8",
        "outputId": "20872651-38d3-477d-c660-ea336d4f89aa"
      },
      "source": [
        "#46: SVM Precision-Recall Curve visualization\n",
        "from sklearn.metrics import precision_recall_curve, average_precision_score\n",
        "from sklearn.preprocessing import label_binarize\n",
        "# Assuming y_test is from a multiclass dataset, binarize it for one-vs-rest\n",
        "y_test_bin = label_binarize(y_test, classes=[0, 1, 2]) # Adjust classes based on your dataset\n",
        "\n",
        "svm = SVC(kernel='linear', probability=True);\n",
        "# Train on the training data's target\n",
        "svm.fit(X_train, y_train) # Corrected to use y_train\n",
        "y_scores = svm.predict_proba(X_test)[:, 1] # Assuming we are plotting for class 1\n",
        "\n",
        "precision, recall, _ = precision_recall_curve(y_test_bin[:, 1], y_scores) # Corrected to use binarized y_test for class 1\n",
        "avg_precision = average_precision_score(y_test_bin[:, 1], y_scores) # Corrected to use binarized y_test for class 1\n",
        "\n",
        "plt.plot(recall, precision, marker='.'); plt.xlabel('Recall'); plt.ylabel('Precision')\n",
        "plt.title(f\"Precision-Recall Curve (AP={avg_precision:.2f}) for Class 1\"); plt.show() # Updated title"
      ],
      "execution_count": 62,
      "outputs": [
        {
          "output_type": "stream",
          "name": "stderr",
          "text": [
            "/usr/local/lib/python3.12/dist-packages/sklearn/metrics/_ranking.py:1033: UserWarning: No positive class found in y_true, recall is set to one for all thresholds.\n",
            "  warnings.warn(\n",
            "/usr/local/lib/python3.12/dist-packages/sklearn/metrics/_ranking.py:1033: UserWarning: No positive class found in y_true, recall is set to one for all thresholds.\n",
            "  warnings.warn(\n"
          ]
        },
        {
          "output_type": "display_data",
          "data": {
            "text/plain": [
              "<Figure size 640x480 with 1 Axes>"
            ],
            "image/png": "[encoded data removed]"
          },
          "metadata": {}
        }
      ]
    },
    {
      "cell_type": "code",
      "source": [],
      "metadata": {
        "id": "9unTd0ovossM"
      },
      "execution_count": null,
      "outputs": []
    },
    {
      "cell_type": "code",
      "source": [],
      "metadata": {
        "id": "TeYTmLATosp0"
      },
      "execution_count": null,
      "outputs": []
    },
    {
      "cell_type": "code",
      "source": [],
      "metadata": {
        "id": "0rEubd34osk5"
      },
      "execution_count": null,
      "outputs": []
    },
    {
      "cell_type": "code",
      "source": [],
      "metadata": {
        "id": "R203qZMYosie"
      },
      "execution_count": null,
      "outputs": []
    },
    {
      "cell_type": "code",
      "source": [],
      "metadata": {
        "id": "YdoRgVjMosgF"
      },
      "execution_count": null,
      "outputs": []
    },
    {
      "cell_type": "code",
      "source": [],
      "metadata": {
        "id": "6JOr3VyXosdt"
      },
      "execution_count": null,
      "outputs": []
    },
    {
      "cell_type": "code",
      "source": [],
      "metadata": {
        "id": "761QRjLHosbG"
      },
      "execution_count": null,
      "outputs": []
    },
    {
      "cell_type": "code",
      "source": [],
      "metadata": {
        "id": "Wr9snf87osYm"
      },
      "execution_count": null,
      "outputs": []
    },
    {
      "cell_type": "code",
      "source": [],
      "metadata": {
        "id": "aKMr-DsbosWR"
      },
      "execution_count": null,
      "outputs": []
    },
    {
      "cell_type": "code",
      "source": [],
      "metadata": {
        "id": "g9joH_-xosTt"
      },
      "execution_count": null,
      "outputs": []
    },
    {
      "cell_type": "code",
      "source": [],
      "metadata": {
        "id": "h6sxV2a-osRW"
      },
      "execution_count": null,
      "outputs": []
    },
    {
      "cell_type": "code",
      "source": [],
      "metadata": {
        "id": "EgcTeTG4osO5"
      },
      "execution_count": null,
      "outputs": []
    }
  ]
}